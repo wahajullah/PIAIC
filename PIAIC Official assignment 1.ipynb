{
 "cells": [
  {
   "cell_type": "markdown",
   "metadata": {},
   "source": [
    "## 1. Calculate Area of a Circle"
   ]
  },
  {
   "cell_type": "markdown",
   "metadata": {},
   "source": [
    "#### Write a Python program which accepts the radius of a circle from the user and compute the area.\n",
    "###### Program Console Sample Output 1:\n",
    "###### Input Radius: 0.5\n",
    "###### Area of Circle with radius 0.5 is 0.7853981634"
   ]
  },
  {
   "cell_type": "code",
   "execution_count": 3,
   "metadata": {},
   "outputs": [
    {
     "name": "stdout",
     "output_type": "stream",
     "text": [
      "Enter Radius To Find Area: 7.13\n",
      "Area Of Circle is:  159.627866  With Radius Of :  7.13\n"
     ]
    }
   ],
   "source": [
    "a=float(input(\"Enter Radius To Find Area: \"))\n",
    "c=(3.14*(a**2))\n",
    "print(\"Area Of Circle is: \",c,\" With Radius Of : \",a)"
   ]
  },
  {
   "cell_type": "markdown",
   "metadata": {},
   "source": [
    "## 2. Check Number either positive, negative or zero"
   ]
  },
  {
   "cell_type": "markdown",
   "metadata": {},
   "source": [
    "#### Write a Python program to check if a number is positive, negative or zero\n",
    "###### Program Console Sample Output 1:\n",
    "###### Enter Number: -1\n",
    "##### Negative Number Entered\n",
    "###### Program Console Sample Output 2:\n",
    "##### Integer: 3\n",
    "##### Positive Number Entered\n",
    "###### Program Console Sample Output 3:\n",
    "##### Integer: 0\n",
    "###### Zero Entered"
   ]
  },
  {
   "cell_type": "code",
   "execution_count": 8,
   "metadata": {},
   "outputs": [
    {
     "name": "stdout",
     "output_type": "stream",
     "text": [
      "Enter Any Integer: 7\n",
      "Positive Integer\n"
     ]
    }
   ],
   "source": [
    "a = float(input(\"Enter Any Integer: \"))\n",
    "if a > 0:\n",
    "   print(\"Positive Integer\")\n",
    "elif a< 0:\n",
    "    print(\"Negative Integer\")\n",
    "else:\n",
    "   print(\"Zero Entered\")"
   ]
  },
  {
   "cell_type": "code",
   "execution_count": 9,
   "metadata": {},
   "outputs": [
    {
     "name": "stdout",
     "output_type": "stream",
     "text": [
      "Enter Any Integer: -5\n",
      "Negative Integer\n"
     ]
    }
   ],
   "source": [
    "a = float(input(\"Enter Any Integer: \"))\n",
    "if a > 0:\n",
    "   print(\"Positive Integer\")\n",
    "elif a< 0:\n",
    "    print(\"Negative Integer\")\n",
    "else:\n",
    "   print(\"Zero Entered\")"
   ]
  },
  {
   "cell_type": "code",
   "execution_count": 10,
   "metadata": {},
   "outputs": [
    {
     "name": "stdout",
     "output_type": "stream",
     "text": [
      "Enter Any Integer: 0\n",
      "Zero Entered\n"
     ]
    }
   ],
   "source": [
    "a = float(input(\"Enter Any Integer: \"))\n",
    "if a > 0:\n",
    "   print(\"Positive Integer\")\n",
    "elif a< 0:\n",
    "    print(\"Negative Integer\")\n",
    "else:\n",
    "   print(\"Zero Entered\")"
   ]
  },
  {
   "cell_type": "markdown",
   "metadata": {},
   "source": [
    "## 3. Divisibility Check of two numbers"
   ]
  },
  {
   "cell_type": "markdown",
   "metadata": {},
   "source": [
    "#### Write a Python program to check whether a number is completely divisible by another number. Accept two integer values form the user\n",
    "##### Program Console Sample Output 1:\n",
    "###### Enter numerator: 4\n",
    "###### Enter Denominator: 2\n",
    "##### Number 4 is Completely divisible by 2\n",
    "###### Program Console Sample Output 2:\n",
    "##### Enter numerator: 7\n",
    "\n",
    "##### Enter Denominator: 4\n",
    "###### Number 7 is not Completely divisible by 4"
   ]
  },
  {
   "cell_type": "code",
   "execution_count": 19,
   "metadata": {},
   "outputs": [
    {
     "name": "stdout",
     "output_type": "stream",
     "text": [
      "Enter Numerator: 6\n",
      "Enter Denominator: 5\n",
      "Number : 6  is not Completely divisible by :  5\n"
     ]
    }
   ],
   "source": [
    "a=int(input(\"Enter Numerator: \"))\n",
    "b=int(input(\"Enter Denominator: \"))\n",
    "if a%b==0:\n",
    "    print(\"Number :\",a,\" is Completely divisible by : \",b)\n",
    "else:\n",
    "     print(\"Number :\",a,\" is not Completely divisible by : \",b)"
   ]
  },
  {
   "cell_type": "code",
   "execution_count": 20,
   "metadata": {},
   "outputs": [
    {
     "name": "stdout",
     "output_type": "stream",
     "text": [
      "Enter Numerator: 8\n",
      "Enter Denominator: 4\n",
      "Number : 8  is Completely divisible by :  4\n"
     ]
    }
   ],
   "source": [
    "a=int(input(\"Enter Numerator: \"))\n",
    "b=int(input(\"Enter Denominator: \"))\n",
    "if a%b==0:\n",
    "    print(\"Number :\",a,\" is Completely divisible by : \",b)\n",
    "else:\n",
    "     print(\"Number :\",a,\" is not Completely divisible by : \",b)"
   ]
  },
  {
   "cell_type": "markdown",
   "metadata": {},
   "source": [
    "## 4. Calculate Volume of a sphere"
   ]
  },
  {
   "cell_type": "markdown",
   "metadata": {},
   "source": [
    "##### Write a Python program to get the volume of a sphere, please take the radius as input from user"
   ]
  },
  {
   "cell_type": "markdown",
   "metadata": {},
   "source": [
    "##### Program Console Output:\n",
    "##### Enter Radius of Sphere: 1\n",
    "###### Volume of the Sphere with Radius 1 is 4.18"
   ]
  },
  {
   "cell_type": "code",
   "execution_count": 1,
   "metadata": {},
   "outputs": [
    {
     "name": "stdout",
     "output_type": "stream",
     "text": [
      "Enter Radius of Sphere: 6\n",
      "Volume of the Sphere is :  904.3199999999999  with Radius is :  6.0\n"
     ]
    }
   ],
   "source": [
    "a=float(input(\"Enter Radius of Sphere: \"))\n",
    "b=(4/3 * (3.14 * a**3))\n",
    "print(\"Volume of the Sphere is : \",b,\" with Radius is : \",a)"
   ]
  },
  {
   "cell_type": "markdown",
   "metadata": {},
   "source": [
    "## 5. Copy string n times\n",
    "#### Write a Python program to get a string which is n (non-negative integer) copies of a given string.\n",
    "##### Program Console Output:\n",
    "##### Enter String: Hi\n",
    "###### How many copies of String you need: 4\n",
    "###### 4 Copies of Hi are HiHiHiHi"
   ]
  },
  {
   "cell_type": "code",
   "execution_count": 4,
   "metadata": {},
   "outputs": [
    {
     "name": "stdout",
     "output_type": "stream",
     "text": [
      "Enter String: wahaj \n",
      "How many copies of String you need: 5\n",
      "5  Copies of  wahaj   are :  wahaj wahaj wahaj wahaj wahaj \n"
     ]
    }
   ],
   "source": [
    "a=str(input(\"Enter String: \"))\n",
    "b = int(input(\"How many copies of String you need: \"))\n",
    "c=a*b\n",
    "\n",
    "print(b,\" Copies of \",a,\" are : \",c)"
   ]
  },
  {
   "cell_type": "markdown",
   "metadata": {},
   "source": [
    "## 6. Check if number is Even or Odd\n",
    "### Write a Python program to find whether a given number (accept from the user) is even or odd, print out an appropriate message to the user\n",
    "#### Program Console Output 1:\n",
    "##### Enter Number: 4\n",
    "###### 4 is Even\n",
    "#### Program Console Output 2:\n",
    "##### Enter Number: 9\n",
    "###### 9 is Odd"
   ]
  },
  {
   "cell_type": "code",
   "execution_count": 7,
   "metadata": {},
   "outputs": [
    {
     "name": "stdout",
     "output_type": "stream",
     "text": [
      "Enter Any Number : 6\n",
      "6  is Even\n"
     ]
    }
   ],
   "source": [
    "a=int(input(\"Enter Any Number : \"))\n",
    "if a%2==0:\n",
    "    print(a,\" is Even\")\n",
    "else:\n",
    "    print(a,\"is Odd\")"
   ]
  },
  {
   "cell_type": "markdown",
   "metadata": {},
   "source": [
    "## 7. Vowel Tester\n",
    "### Write a Python program to test whether a passed letter is a vowel or not\n",
    "#### Program Console Output 1:\n",
    "##### Enter a character: A\n",
    "###### Letter A is Vowel\n",
    "#### Program Console Output 2:\n",
    "##### Enter a character: e\n",
    "###### Letter e is Vowel\n",
    "#### Program Console Output 2:\n",
    "##### Enter a character: N\n",
    "###### Letter N is not Vowel"
   ]
  },
  {
   "cell_type": "code",
   "execution_count": 1,
   "metadata": {},
   "outputs": [
    {
     "name": "stdout",
     "output_type": "stream",
     "text": [
      "Enter Any Character : t\n",
      "Letter  t  is not a Vowel\n"
     ]
    }
   ],
   "source": [
    "a=input(\"Enter Any Character : \")\n",
    "if(a == 'a' or a == 'e' or a == 'i' or a == 'o' or a == 'u' or a == 'A' or a == 'E' or a == 'I' or a == 'O' or a == 'U'):\n",
    "    print(\"Letter \",a,\" is a Vowel\")\n",
    "else:\n",
    "    print(\"Letter \",a,\" is not a Vowel\")"
   ]
  },
  {
   "cell_type": "code",
   "execution_count": 2,
   "metadata": {},
   "outputs": [
    {
     "name": "stdout",
     "output_type": "stream",
     "text": [
      "Enter Any Character : E\n",
      "Letter  E  is a Vowel\n"
     ]
    }
   ],
   "source": [
    "a=input(\"Enter Any Character : \")\n",
    "if(a == 'a' or a == 'e' or a == 'i' or a == 'o' or a == 'u' or a == 'A' or a == 'E' or a == 'I' or a == 'O' or a == 'U'):\n",
    "    print(\"Letter \",a,\" is a Vowel\")\n",
    "else:\n",
    "    print(\"Letter \",a,\" is not a Vowel\")"
   ]
  },
  {
   "cell_type": "markdown",
   "metadata": {},
   "source": [
    "## 8. Triangle area\n",
    "### Write a Python program that will accept the base and height of a triangle and compute the area\n",
    "###### Reference:\n",
    "https://www.mathgoodies.com/lessons/vol1/area_triangle"
   ]
  },
  {
   "cell_type": "code",
   "execution_count": 3,
   "metadata": {},
   "outputs": [
    {
     "name": "stdout",
     "output_type": "stream",
     "text": [
      "Enter Base Of Triangle : 4\n",
      "Enter Height Of Triangle : 5\n",
      "Area of triangle is :  10.0\n"
     ]
    }
   ],
   "source": [
    "a=int(input(\"Enter Base Of Triangle : \"))\n",
    "b=int(input(\"Enter Height Of Triangle : \"))\n",
    "c=a*b/2\n",
    "print(\"Area of triangle is : \",c)"
   ]
  },
  {
   "cell_type": "markdown",
   "metadata": {},
   "source": [
    "## 9. Calculate Interest\n",
    "### Write a Python program to compute the future value of a specified principal amount, rate of interest, and a number of years\n",
    "#### Program Console Sample 1:\n",
    "##### Please enter principal amount: 10000\n",
    "###### Please Enter Rate of interest in %: 0.1\n",
    "###### Enter number of years for investment: 5\n",
    "###### After 5 years your principal amount 10000 over an interest rate of 0.1 % will be 16105.1"
   ]
  },
  {
   "cell_type": "code",
   "execution_count": 3,
   "metadata": {},
   "outputs": [
    {
     "name": "stdout",
     "output_type": "stream",
     "text": [
      "Please Enter Principal Amount: 10000\n",
      "Please Enter Rate Of Interest In %: 0.1\n",
      "Enter Number Of Years For Investment: 5\n",
      "After  5  Year An Interest Rate Of  0.1  Will Be  16105.100000000008\n"
     ]
    }
   ],
   "source": [
    "a=int(input(\"Please Enter Principal Amount: \"))\n",
    "b=float(input(\"Please Enter Rate Of Interest In %: \"))\n",
    "c=int(input(\"Enter Number Of Years For Investment: \"))\n",
    "for i in range(c):\n",
    "    a = a * (1+b)\n",
    "print(\"After \",c,\" Year An Interest Rate Of \",b,\" Will Be \",a)"
   ]
  },
  {
   "cell_type": "markdown",
   "metadata": {},
   "source": [
    "## 10. Euclidean distance\n",
    "### write a Python program to compute the distance between the points (x1, y1) and (x2, y2).\n",
    "#### Program Console Sample 1:\n",
    "###### Enter Co-ordinate for x1: 2\n",
    "###### Enter Co-ordinate for x2: 4\n",
    "###### Enter Co-ordinate for y1: 4\n",
    "###### Enter Co-ordinate for y2: 4\n",
    "###### Distance between points (2, 4) and (4, 4) is 2"
   ]
  },
  {
   "cell_type": "markdown",
   "metadata": {},
   "source": [
    "###### Reference:\n",
    "https://en.wikipedia.org/wiki/Euclidean_distance"
   ]
  },
  {
   "cell_type": "code",
   "execution_count": 5,
   "metadata": {},
   "outputs": [
    {
     "name": "stdout",
     "output_type": "stream",
     "text": [
      "Enter Co-ordinate For x1: 2\n",
      "Enter Co-ordinate For x2: 4\n",
      "Enter Co-ordinate For y1: 4\n",
      "Enter Co-ordinate For y2: 4\n",
      "Distance between points ( 2 ,  4 ) and ( 4 ,  4 ) is : 2.0\n"
     ]
    }
   ],
   "source": [
    "import math\n",
    "a=int(input(\"Enter Co-ordinate For x1: \"))\n",
    "b=int(input(\"Enter Co-ordinate For x2: \"))\n",
    "c=int(input(\"Enter Co-ordinate For y1: \"))\n",
    "d=int(input(\"Enter Co-ordinate For y2: \"))\n",
    "e = math.sqrt( ((a-c)**2)+((b-d)**2) )\n",
    "print(\"Distance between points (\",a,\", \",c,\") and (\",b,\", \",d,\") is :\",e)"
   ]
  },
  {
   "cell_type": "markdown",
   "metadata": {},
   "source": [
    "## 11. Feet to Centimeter Converter\n",
    "### Write a Python program to convert height in feet to centimetres.\n",
    "##### Program Console Sample 1:\n",
    "###### Enter Height in Feet: 5\n",
    "###### There are 152.4 Cm in 5 ft\n",
    "###### Reference:\n",
    "https://www.rapidtables.com/convert/length/feet-to-cm.html"
   ]
  },
  {
   "cell_type": "code",
   "execution_count": 8,
   "metadata": {},
   "outputs": [
    {
     "name": "stdout",
     "output_type": "stream",
     "text": [
      "Enter Your Height In Feet: 5\n",
      "There Are  152.39999999999998  CM In  5.0 FT\n"
     ]
    }
   ],
   "source": [
    "a= float(input('Enter Your Height In Feet: '))\n",
    "b= 2.54\n",
    "c= a*b*12\n",
    "print(\"There Are \",c,\" CM In \",a,\"FT\")"
   ]
  },
  {
   "cell_type": "markdown",
   "metadata": {},
   "source": [
    "## 12. BMI Calculator\n",
    "### Write a Python program to calculate body mass index\n",
    "##### Program Console Sample 1:\n",
    "###### Enter Height in Cm: 180\n",
    "###### Enter Weight in Kg: 75\n",
    "###### Your BMI is 23.15"
   ]
  },
  {
   "cell_type": "code",
   "execution_count": 16,
   "metadata": {
    "scrolled": true
   },
   "outputs": [
    {
     "name": "stdout",
     "output_type": "stream",
     "text": [
      "Your Height in Cm : 180\n",
      "Your Weight in Kg : 75\n",
      "Your BMI Is :  23.148148148148145\n"
     ]
    }
   ],
   "source": [
    "a = float(input(\"Your Height in Cm : \"))\n",
    "d=a/100\n",
    "b = float(input(\"Your Weight in Kg : \"))\n",
    "c = b / (d*d)\n",
    "print(\"Your BMI Is : \",c)"
   ]
  },
  {
   "cell_type": "markdown",
   "metadata": {},
   "source": [
    "## 13. Sum of n Positive Integers\n",
    "### Write a python program to sum of the first n positive integers\n",
    "#### Program Console Sample 1:\n",
    "###### Enter value of n: 5\n",
    "###### Sum of n Positive integers till 5 is 15"
   ]
  },
  {
   "cell_type": "code",
   "execution_count": 17,
   "metadata": {},
   "outputs": [
    {
     "name": "stdout",
     "output_type": "stream",
     "text": [
      "Enter Value Of n : 5\n",
      "Sum of n Positive integers till  5  is :  15.0\n"
     ]
    }
   ],
   "source": [
    "a = int(input(\"Enter Value Of n : \"))\n",
    "b = (a * (a + 1)) / 2\n",
    "print(\"Sum of n Positive integers till \",a,\" is : \",b)"
   ]
  },
  {
   "cell_type": "markdown",
   "metadata": {},
   "source": [
    "## 14. Digits Sum of a Number\n",
    "### Write a Python program to calculate the sum of the digits in an integer\n",
    "#### Program Console Sample 1:\n",
    "##### Enter a number: 15\n",
    "###### Sum of 1 + 5 is 6\n",
    "#### Program Console Sample 2:\n",
    "##### Enter a number: 1234\n",
    "###### Sum of 1 + 2 + 3 + 4 is 10"
   ]
  },
  {
   "cell_type": "code",
   "execution_count": 23,
   "metadata": {},
   "outputs": [
    {
     "name": "stdout",
     "output_type": "stream",
     "text": [
      "Enter A Number: 1234567\n",
      "Sum Is :  28\n"
     ]
    }
   ],
   "source": [
    "a = map(int,str(input('Enter A Number: ')))\n",
    "print(\"Sum Is : \",sum(a))"
   ]
  }
 ],
 "metadata": {
  "kernelspec": {
   "display_name": "Python 3",
   "language": "python",
   "name": "python3"
  },
  "language_info": {
   "codemirror_mode": {
    "name": "ipython",
    "version": 3
   },
   "file_extension": ".py",
   "mimetype": "text/x-python",
   "name": "python",
   "nbconvert_exporter": "python",
   "pygments_lexer": "ipython3",
   "version": "3.7.3"
  }
 },
 "nbformat": 4,
 "nbformat_minor": 2
}
