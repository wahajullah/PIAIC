{
 "cells": [
  {
   "cell_type": "code",
   "execution_count": 3,
   "metadata": {},
   "outputs": [
    {
     "name": "stdout",
     "output_type": "stream",
     "text": [
      "Number of files are :  15\n",
      "Resized images are: \n",
      "[<PIL.Image.Image image mode=RGB size=200x200 at 0x6BB2C50>, <PIL.Image.Image image mode=RGB size=200x200 at 0x6BB2CC0>, <PIL.Image.Image image mode=RGB size=200x200 at 0x6BB2D30>, <PIL.Image.Image image mode=RGB size=200x200 at 0x6BB2DD8>, <PIL.Image.Image image mode=RGB size=200x200 at 0x6BB2E10>, <PIL.Image.Image image mode=RGB size=200x200 at 0x6BAD630>, <PIL.Image.Image image mode=RGB size=200x200 at 0x6BB2BA8>, <PIL.Image.Image image mode=RGB size=200x200 at 0x6BAD9B0>, <PIL.Image.Image image mode=RGB size=200x200 at 0x6BB2B70>, <PIL.Image.Image image mode=RGB size=200x200 at 0x6BAD9E8>, <PIL.Image.Image image mode=RGB size=200x200 at 0x6BB2BE0>, <PIL.Image.Image image mode=RGB size=200x200 at 0x6BADAC8>, <PIL.Image.Image image mode=RGB size=200x200 at 0x6BADB70>, <PIL.Image.Image image mode=RGB size=200x200 at 0x6BADBA8>, <PIL.Image.Image image mode=RGB size=200x200 at 0x6BADC18>]\n",
      "Numpy array of 20 images are:\n",
      "[[[133 146 155]\n",
      "  [103 116 125]\n",
      "  [ 22  35  44]\n",
      "  ...\n",
      "  [165 174 179]\n",
      "  [148 157 162]\n",
      "  [160 169 174]]\n",
      "\n",
      " [[167 180 189]\n",
      "  [ 74  87  96]\n",
      "  [  6  19  28]\n",
      "  ...\n",
      "  [160 169 174]\n",
      "  [164 173 178]\n",
      "  [117 126 131]]\n",
      "\n",
      " [[111 124 133]\n",
      "  [ 26  39  48]\n",
      "  [ 21  34  43]\n",
      "  ...\n",
      "  [148 157 162]\n",
      "  [157 166 171]\n",
      "  [108 117 122]]\n",
      "\n",
      " ...\n",
      "\n",
      " [[  3  10  16]\n",
      "  [  3  11  14]\n",
      "  [  3  11  14]\n",
      "  ...\n",
      "  [ 95 114 128]\n",
      "  [ 93 111 125]\n",
      "  [ 95 113 127]]\n",
      "\n",
      " [[  2   9  15]\n",
      "  [  2  10  13]\n",
      "  [  2  10  13]\n",
      "  ...\n",
      "  [105 121 134]\n",
      "  [ 96 112 125]\n",
      "  [ 92 106 117]]\n",
      "\n",
      " [[  1   8  14]\n",
      "  [  1   9  12]\n",
      "  [  1   9  12]\n",
      "  ...\n",
      "  [ 59  73  82]\n",
      "  [ 48  61  70]\n",
      "  [ 34  47  56]]]\n"
     ]
    }
   ],
   "source": [
    "import numpy as np\n",
    "import os\n",
    "from PIL import Image\n",
    "from resizeimage import resizeimage\n",
    "\n",
    "imageSize = (200, 200)\n",
    "picsDir = os.listdir('./photos/')\n",
    "rootDir = './photos/'\n",
    "\n",
    "\n",
    "def filesfinder(directory):\n",
    "    files_list = []\n",
    "\n",
    "    for pic in directory:\n",
    "        im = Image.open(rootDir + pic)\n",
    "\n",
    "        files_list.append(im)\n",
    "\n",
    "    iol = len(files_list)\n",
    "\n",
    "    return iol, files_list\n",
    "def resizing(image_size):\n",
    "    resized_images = []\n",
    "    for img in picsDir:\n",
    "        image = Image.open(rootDir + img)\n",
    "        image = resizeimage.resize_crop(image, image_size)\n",
    "        # image.thumbnail(image_size)\n",
    "        resized_images.append(image)\n",
    "\n",
    "    return resized_images\n",
    "\n",
    "\n",
    "def converttonumpyarray(list_of_resized_images):\n",
    "    for image in list_of_resized_images:\n",
    "        array1 = np.array(image).reshape(200, 200, 3)\n",
    "        for img in list_of_resized_images:\n",
    "            array2 = np.array(image).reshape(200, 200, 3)\n",
    "            array1 = np.concatenate((array1, array2))\n",
    "        break\n",
    "\n",
    "    return array1\n",
    "\n",
    "def main():\n",
    "    # Finding files\n",
    "    num_of_files, list_of_pics = filesfinder(picsDir)\n",
    "    print('Number of files are : ', num_of_files)\n",
    "\n",
    "    # Resizing pictures\n",
    "    resized_images = resizing(imageSize)\n",
    "    print(\"Resized images are: \")\n",
    "    print(resized_images)\n",
    "\n",
    "    # Converting to numpy array\n",
    "    nparray = converttonumpyarray(resized_images)\n",
    "    print(\"Numpy array of 20 images are:\")\n",
    "    print(nparray)\n",
    "\n",
    "    return nparray\n",
    "\n",
    "\n",
    "if __name__ == \"__main__\":\n",
    "    main()"
   ]
  },
  {
   "cell_type": "code",
   "execution_count": null,
   "metadata": {},
   "outputs": [],
   "source": []
  },
  {
   "cell_type": "code",
   "execution_count": null,
   "metadata": {},
   "outputs": [],
   "source": []
  },
  {
   "cell_type": "code",
   "execution_count": null,
   "metadata": {},
   "outputs": [],
   "source": []
  },
  {
   "cell_type": "code",
   "execution_count": null,
   "metadata": {},
   "outputs": [],
   "source": []
  },
  {
   "cell_type": "code",
   "execution_count": null,
   "metadata": {},
   "outputs": [],
   "source": []
  },
  {
   "cell_type": "code",
   "execution_count": null,
   "metadata": {},
   "outputs": [],
   "source": []
  },
  {
   "cell_type": "code",
   "execution_count": null,
   "metadata": {},
   "outputs": [],
   "source": []
  },
  {
   "cell_type": "code",
   "execution_count": null,
   "metadata": {},
   "outputs": [],
   "source": []
  },
  {
   "cell_type": "code",
   "execution_count": null,
   "metadata": {},
   "outputs": [],
   "source": []
  },
  {
   "cell_type": "code",
   "execution_count": null,
   "metadata": {},
   "outputs": [],
   "source": []
  },
  {
   "cell_type": "code",
   "execution_count": null,
   "metadata": {},
   "outputs": [],
   "source": []
  },
  {
   "cell_type": "code",
   "execution_count": null,
   "metadata": {},
   "outputs": [],
   "source": []
  }
 ],
 "metadata": {
  "kernelspec": {
   "display_name": "Python 3",
   "language": "python",
   "name": "python3"
  },
  "language_info": {
   "codemirror_mode": {
    "name": "ipython",
    "version": 3
   },
   "file_extension": ".py",
   "mimetype": "text/x-python",
   "name": "python",
   "nbconvert_exporter": "python",
   "pygments_lexer": "ipython3",
   "version": "3.7.3"
  }
 },
 "nbformat": 4,
 "nbformat_minor": 2
}
