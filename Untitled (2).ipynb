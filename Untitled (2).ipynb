{
 "cells": [
  {
   "cell_type": "code",
   "execution_count": 4,
   "metadata": {},
   "outputs": [
    {
     "name": "stdout",
     "output_type": "stream",
     "text": [
      "NumPy, short for Num\n"
     ]
    }
   ],
   "source": [
    "text = \"\"\"NumPy, short for Numerical Python, is one of the most important foundational packages \n",
    "for numerical computing in Python. Most computational packages providing \n",
    "scientific functionality use NumPy’s array objects as the lingua franca for data\n",
    "exchange.\n",
    "Here are some of the things you’ll find in NumPy:\n",
    "• ndarray, an efficient multidimensional array providing fast array-oriented arithmetic\n",
    "operations and flexible broadcasting capabilities.\n",
    "• Mathematical functions for fast operations on entire arrays of data without having\n",
    "to write loops.\n",
    "• Tools for reading/writing array data to disk and working with memory-mapped\n",
    "files.\n",
    "• Linear algebra, random number generation, and Fourier transform capabilities.\n",
    "• A C API for connecting NumPy with libraries written in C, C++, or FORTRAN.\"\"\"\n",
    "\n",
    "print(text[0:20])\n",
    "npText = np.array()\n"
   ]
  },
  {
   "cell_type": "code",
   "execution_count": 76,
   "metadata": {},
   "outputs": [
    {
     "name": "stdout",
     "output_type": "stream",
     "text": [
      "(767738,) [0.70980394 0.38431373 0.7254902  ... 0.25490198 0.41960785 0.45882353]\n"
     ]
    }
   ],
   "source": [
    "import numpy as np\n",
    "import matplotlib.pylab as plt\n",
    "\n",
    "def plti(im, h=8, **kwargs):\n",
    "    \"\"\"\n",
    "    Helper function to plot an image.\n",
    "    \"\"\"\n",
    "    y = im.shape[0]\n",
    "    x = im.shape[1]\n",
    "    w = (y/x) * h\n",
    "    plt.figure(figsize=(w,h))\n",
    "    plt.imshow(im, interpolation=\"none\", **kwargs)\n",
    "    #plt.axis('off')\n",
    "    \n",
    "%matplotlib inline\n",
    "im = plt.imread(\"airplane.png\")\n",
    "#print(type(im), im.shape[0] )\n",
    "#plti(im)\n",
    "#im = im * 25\n",
    "im2 = im[im > .25]\n",
    "\n",
    "print(im2.shape, im2 )\n",
    "#plti(im)\n",
    "#print( im.shape )\n"
   ]
  },
  {
   "cell_type": "code",
   "execution_count": 85,
   "metadata": {},
   "outputs": [
    {
     "name": "stdout",
     "output_type": "stream",
     "text": [
      "[[ 12 -45  67  89  34]\n",
      " [ -2  -2   6  -7   8]]\n",
      "[[12 45 67 89 34]\n",
      " [ 2  2  6  7  8]]\n"
     ]
    }
   ],
   "source": [
    "arr = np.array([12,-45,67,89,34,-2,-2,6,-7,8])\n",
    "arr = arr.reshape([2,5 ])\n",
    "print(arr)\n",
    "#print(arr[[4,3,0,6]])\n",
    "print(np.abs(arr))\n"
   ]
  },
  {
   "cell_type": "code",
   "execution_count": null,
   "metadata": {},
   "outputs": [],
   "source": []
  },
  {
   "cell_type": "code",
   "execution_count": null,
   "metadata": {},
   "outputs": [],
   "source": [
    "na = np.array ([ [1,2,3,4], [1,2,3,4] ])\n",
    "na2 = np.array(   [[2,3,4,5],  [2,3,4,5] ])\n",
    "\n",
    "print(na)\n",
    "print(na2)\n",
    "#print(na + na2)\n",
    "#print(na >3 )\n",
    "filter = na >3\n",
    "\n",
    "print(filter )\n",
    "newarray = na[  na >3]\n",
    "print(newarray)"
   ]
  },
  {
   "cell_type": "code",
   "execution_count": 97,
   "metadata": {
    "scrolled": false
   },
   "outputs": [
    {
     "name": "stdout",
     "output_type": "stream",
     "text": [
      "[ 10  20  30  40  50  60  70  80  90 100]\n",
      "[array([10, 20]), array([30, 40, 50]), array([60, 70]), array([ 80,  90, 100])]\n"
     ]
    }
   ],
   "source": [
    "na = np.array ([ [1,2,3,4], [1,2,3,4] ])\n",
    "na2 = np.array(   [[2,3,4,5],  [2,3,4,5] ])\n",
    "na4 = np.concatenate([na2,na], axis =1)\n",
    "na   = np.array( [10,20,30,40,50,60,70,80,90,100] )\n",
    "print(na)\n",
    "print(np.split(na, [2, 5, 7]) )"
   ]
  },
  {
   "cell_type": "code",
   "execution_count": 102,
   "metadata": {},
   "outputs": [
    {
     "name": "stdout",
     "output_type": "stream",
     "text": [
      "10\n",
      "['Here' 'are' 'some' 'of' 'the' 'find' 'in']\n",
      "\n"
     ]
    }
   ],
   "source": [
    "import numpy as np\n",
    "text = \"Here are some of the things you’ll find in NumPy:\"\n",
    "l = text.split(\" \")\n",
    "arr = np.array(text.split(\" \"))\n",
    "print(len(arr))\n",
    "#prn = print\n",
    "#rn(\"testing\")\n",
    "#print(arr)\n",
    "lnth = np.vectorize(len)\n",
    "print(arr[lnth(arr)<5])\n",
    "#print(arr[ np.vectorize(len)(arr) <5]) \n",
    "print()\n"
   ]
  }
 ],
 "metadata": {
  "kernelspec": {
   "display_name": "Python 3",
   "language": "python",
   "name": "python3"
  },
  "language_info": {
   "codemirror_mode": {
    "name": "ipython",
    "version": 3
   },
   "file_extension": ".py",
   "mimetype": "text/x-python",
   "name": "python",
   "nbconvert_exporter": "python",
   "pygments_lexer": "ipython3",
   "version": "3.7.3"
  }
 },
 "nbformat": 4,
 "nbformat_minor": 2
}
