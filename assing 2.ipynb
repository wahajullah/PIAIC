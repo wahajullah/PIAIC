{
 "cells": [
  {
   "cell_type": "markdown",
   "metadata": {},
   "source": [
    "# The ABC company has hired you as an intern on the coding team that creates e-commerce applications.  \n",
    "You must write a script that asks the user for a value. The value must be used as a whole number in a calculation, even if the user enters a decimal value. \n",
    "\n",
    "You need to write the code to meet the requirements."
   ]
  },
  {
   "cell_type": "code",
   "execution_count": 1,
   "metadata": {},
   "outputs": [
    {
     "name": "stdout",
     "output_type": "stream",
     "text": [
      "Enter the number of items: 67.98\n",
      "Thanks for buying  67  items :) \n"
     ]
    }
   ],
   "source": [
    "a = float(input(\"Enter the number of items: \"))\n",
    "b = int(a)\n",
    "print(\"Thanks for buying \", b, \" items :) \")"
   ]
  },
  {
   "cell_type": "code",
   "execution_count": null,
   "metadata": {},
   "outputs": [],
   "source": []
  },
  {
   "cell_type": "markdown",
   "metadata": {},
   "source": [
    "# You are creating a Python program that shows a congratulation message to employees on their service anniversary.\n",
    "You need to calculate the number of years of service and print a congratulatory message."
   ]
  },
  {
   "cell_type": "code",
   "execution_count": 2,
   "metadata": {},
   "outputs": [
    {
     "name": "stdout",
     "output_type": "stream",
     "text": [
      "Enter your appoinment date: 1998\n",
      "Enter your retirement date: 2019\n",
      "CONGRADULATION! You have served 21 years in our company\n"
     ]
    }
   ],
   "source": [
    "a=int(input(\"Enter your appoinment date: \"))\n",
    "b=int(input(\"Enter your retirement date: \")) \n",
    "c=b-a\n",
    "print(\"CONGRADULATION! You have served\", c, \"years in our company\")"
   ]
  },
  {
   "cell_type": "code",
   "execution_count": null,
   "metadata": {},
   "outputs": [],
   "source": []
  },
  {
   "cell_type": "code",
   "execution_count": null,
   "metadata": {},
   "outputs": [],
   "source": []
  },
  {
   "cell_type": "markdown",
   "metadata": {},
   "source": [
    "# Write a Python program to convert temperatures  from fahrenheit to celsius, \n",
    "#step 1: take \"fahrenheit Temperature\" from user in integer data type\n",
    "#step 2: apply formula that is       (  C = (5/9) * (fahrenheit_temperature - 32)  )\n",
    "#step 3: print step 2. "
   ]
  },
  {
   "cell_type": "code",
   "execution_count": 3,
   "metadata": {},
   "outputs": [
    {
     "name": "stdout",
     "output_type": "stream",
     "text": [
      "Enter Temperature in Fahrenheit: 56\n",
      "Temperature in Celsius is:  13.333333333333334\n"
     ]
    }
   ],
   "source": [
    "a=int(input(\"Enter Temperature in Fahrenheit: \"))\n",
    "b = (5/9) * (a - 32)\n",
    "print(\"Temperature in Celsius is: \",b)"
   ]
  },
  {
   "cell_type": "code",
   "execution_count": null,
   "metadata": {},
   "outputs": [],
   "source": []
  },
  {
   "cell_type": "code",
   "execution_count": null,
   "metadata": {},
   "outputs": [],
   "source": []
  },
  {
   "cell_type": "markdown",
   "metadata": {},
   "source": [
    "<h3>assign a vlue to grade by checking the following conditions:: </h3>\n",
    "<h3>if % is greater then and equal to 90 and less then 100 grade is A+ </h3>\n",
    "<h3>if % is greater then and equal to 80 and less then 90 grade is A </h3>\n",
    "<h3>if % is greater then and equal to 70 and less then 80 grade is B </h3>\n",
    "<h3>if % is greater then and equal to 60 and less then 70 grade is C </h3>\n",
    "<h3>if % is less than 60 grade is FAIL </h3>\n"
   ]
  },
  {
   "cell_type": "code",
   "execution_count": 1,
   "metadata": {},
   "outputs": [
    {
     "name": "stdout",
     "output_type": "stream",
     "text": [
      "\tEnter Your Name : Wahaj\n",
      "\tEnter Your Section : 4A\n",
      "\tEnter Your Roll Number : CSC-17F-094\n",
      "\tEnter Your Marks Of Calculus :98\n",
      "\tEnter Your Marks Of Arabic : 87\n",
      "\tEnter Your Marks Of Web-Eng : 79\n",
      "\tEnter Your Marks Of Software-Eng : 90\n",
      "\tEnter Your Marks Of Operating System : 76\n",
      "\tMARKSHEET\n",
      "\n",
      "\n",
      "\tNAME :  Wahaj\n",
      "\tSECTION :  4A\n",
      "\tROLL NUMBER :  CSC-17F-094\n",
      "\tCALCULUS :  98 /100\n",
      "\tARABIC :  87 /100\n",
      "\tWEB_ENG :  79 /100\n",
      "\tSOFTWARE_ENG :  90 /100\n",
      "\tOPERATING SYSTEM :  76 /100\n",
      "\n",
      "\n",
      "\tTOTAL MARKS :  430 /500\n",
      "\tPERCENTAGE :  86.0 %\n",
      "\t Your Garde is A\n"
     ]
    }
   ],
   "source": [
    "name=input('\\tEnter Your Name : ')\n",
    "sec=input('\\tEnter Your Section : ')\n",
    "rn=input('\\tEnter Your Roll Number : ')\n",
    "s1=int(input('\\tEnter Your Marks Of Calculus :'))\n",
    "s2=int(input('\\tEnter Your Marks Of Arabic : '))\n",
    "s3=int(input('\\tEnter Your Marks Of Web-Eng : '))\n",
    "s4=int(input('\\tEnter Your Marks Of Software-Eng : '))\n",
    "s5=int(input('\\tEnter Your Marks Of Operating System : '))\n",
    "t=(s1+s2+s3+s4+s5)\n",
    "Per =float(((t/500)*100))\n",
    "print('\\tMARKSHEET')\n",
    "print('\\n')\n",
    "print('\\tNAME : ',name)\n",
    "print('\\tSECTION : ',sec)\n",
    "print('\\tROLL NUMBER : ',rn)\n",
    "print('\\tCALCULUS : ',s1,'/100')\n",
    "print('\\tARABIC : ',s2,'/100')\n",
    "print('\\tWEB_ENG : ',s3,'/100')\n",
    "print('\\tSOFTWARE_ENG : ',s4,'/100')\n",
    "print('\\tOPERATING SYSTEM : ',s5,'/100')\n",
    "print('\\n')\n",
    "print('\\tTOTAL MARKS : ',t,'/500')\n",
    "print('\\tPERCENTAGE : ',Per,'%')\n",
    "if Per >= 90 and Per < 100 :\n",
    "    print('\\t Your Garde is A1')\n",
    "elif Per >= 80 and Per < 90 :\n",
    "    print('\\t Your Garde is A')\n",
    "elif Per >= 70 and Per < 80 :\n",
    "    print('\\t Your Garde is B')\n",
    "elif Per >= 60 and Per < 70 :\n",
    "    print('\\t Your Garde is C')\n",
    "elif Per < 50:\n",
    "        print('You Are Fail')"
   ]
  },
  {
   "cell_type": "markdown",
   "metadata": {},
   "source": [
    "<h3>Print grade percentage and obtained marks</h3>"
   ]
  },
  {
   "cell_type": "code",
   "execution_count": 2,
   "metadata": {},
   "outputs": [
    {
     "name": "stdout",
     "output_type": "stream",
     "text": [
      "Marks Obtained is 396 where Percentage is 79.2 % and Grade is B\n"
     ]
    }
   ],
   "source": [
    "Maths = 89\n",
    "English = 78\n",
    "Physics = 87\n",
    "Urdu = 67\n",
    "Islamiat = 75\n",
    "total_marks = 500\n",
    "Marks_obtained = Maths+English+Physics+Urdu+Islamiat\n",
    "Percentage = (Marks_obtained/total_marks)*100\n",
    "Grade = None\n",
    "if Percentage >= 90 and Percentage < 100 :\n",
    "    Grade = \"A+\"\n",
    "elif Percentage >= 80 and Percentage < 90 :\n",
    "    Grade = \"A\"\n",
    "elif Percentage >= 70 and Percentage < 80 :\n",
    "    Grade = \"B\"\n",
    "elif Percentage >= 60 and Percentage < 70 :\n",
    "    Grade = \"C\"\n",
    "elif Percentage < 60 :\n",
    "    Grade = \"FAIL\"\n",
    "print(\"Marks Obtained is\", Marks_obtained, \"where Percentage is\", Percentage, \"%\", \"and Grade is\", Grade)"
   ]
  },
  {
   "cell_type": "code",
   "execution_count": null,
   "metadata": {},
   "outputs": [],
   "source": []
  }
 ],
 "metadata": {
  "kernelspec": {
   "display_name": "Python 3",
   "language": "python",
   "name": "python3"
  },
  "language_info": {
   "codemirror_mode": {
    "name": "ipython",
    "version": 3
   },
   "file_extension": ".py",
   "mimetype": "text/x-python",
   "name": "python",
   "nbconvert_exporter": "python",
   "pygments_lexer": "ipython3",
   "version": "3.7.3"
  }
 },
 "nbformat": 4,
 "nbformat_minor": 2
}
