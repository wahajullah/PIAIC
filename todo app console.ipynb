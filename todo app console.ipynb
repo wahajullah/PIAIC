{
 "cells": [
  {
   "cell_type": "code",
   "execution_count": 1,
   "metadata": {
    "scrolled": true
   },
   "outputs": [],
   "source": [
    "a=[]"
   ]
  },
  {
   "cell_type": "code",
   "execution_count": 4,
   "metadata": {},
   "outputs": [
    {
     "name": "stdout",
     "output_type": "stream",
     "text": [
      "['water filling']\n",
      "\n",
      " Press A for Adding Any Task \n",
      " Press D for Delete Any Task \n",
      " Press X for Delete All Task\n",
      "\n",
      "Press Key: a\n",
      "Enter New Task: build cards\n",
      "['water filling', 'build cards']\n"
     ]
    }
   ],
   "source": [
    "def todo():\n",
    "    print(a)\n",
    "    print(\"\\n Press A for Adding Any Task \\n Press D for Delete Any Task \\n Press X for Delete All Task\\n\")\n",
    "todo()\n",
    "i=input(\"Press Key: \")\n",
    "if i == 'a':\n",
    "    y=input(\"Enter New Task: \")\n",
    "    a.append(y)\n",
    "elif i== 'd':\n",
    "    j=input(\"Enter name to delete Task: \")\n",
    "    a.remove(j)\n",
    "elif i == 'x':\n",
    "    a.clear()\n",
    "else:\n",
    "    print(\"Enter correct Key\")\n",
    "print(a)\n"
   ]
  },
  {
   "cell_type": "code",
   "execution_count": null,
   "metadata": {},
   "outputs": [],
   "source": []
  },
  {
   "cell_type": "code",
   "execution_count": null,
   "metadata": {},
   "outputs": [],
   "source": []
  },
  {
   "cell_type": "code",
   "execution_count": null,
   "metadata": {},
   "outputs": [],
   "source": []
  },
  {
   "cell_type": "code",
   "execution_count": null,
   "metadata": {},
   "outputs": [],
   "source": []
  }
 ],
 "metadata": {
  "kernelspec": {
   "display_name": "Python 3",
   "language": "python",
   "name": "python3"
  },
  "language_info": {
   "codemirror_mode": {
    "name": "ipython",
    "version": 3
   },
   "file_extension": ".py",
   "mimetype": "text/x-python",
   "name": "python",
   "nbconvert_exporter": "python",
   "pygments_lexer": "ipython3",
   "version": "3.7.3"
  }
 },
 "nbformat": 4,
 "nbformat_minor": 2
}
