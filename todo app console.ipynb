{
 "cells": [
  {
   "cell_type": "code",
   "execution_count": 2,
   "metadata": {
    "scrolled": true
   },
   "outputs": [],
   "source": [
    "a=[]"
   ]
  },
  {
   "cell_type": "code",
   "execution_count": null,
   "metadata": {},
   "outputs": [],
   "source": []
  },
  {
   "cell_type": "code",
   "execution_count": null,
   "metadata": {},
   "outputs": [
    {
     "name": "stdout",
     "output_type": "stream",
     "text": [
      "[]\n",
      "\n",
      " Press A for Adding Any Task \n",
      " Press D for Delete Any Task \n",
      " Press X for Delete All Task\n",
      " Press E for End\n",
      "Press Key: a\n",
      "Enter New Task: wahaj\n",
      "['wahaj']\n",
      "Press Key: a\n",
      "Enter New Task: billing\n",
      "['wahaj', 'billing']\n",
      "Press Key: d\n",
      "Enter name to delete Task: wahaj\n",
      "['billing']\n",
      "Press Key: x\n",
      "[]\n"
     ]
    }
   ],
   "source": [
    "def todo():\n",
    "    print(a)\n",
    "    print(\"\\n Press A for Adding Any Task \\n Press D for Delete Any Task \\n Press X for Delete All Task\\n Press E for End\")\n",
    "todo()\n",
    "w= True\n",
    "while w:\n",
    "    i=input(\"Press Key: \")\n",
    "    if i == 'a':\n",
    "        y=input(\"Enter New Task: \")\n",
    "        a.append(y)\n",
    "    elif i== 'd':\n",
    "        j=input(\"Enter name to delete Task: \")\n",
    "        a.remove(j)\n",
    "    elif i == 'x':\n",
    "        a.clear()\n",
    "    elif i == 'e':\n",
    "        w= False\n",
    "    else:\n",
    "        print(\"Enter correct Key\")\n",
    "    print(a)\n"
   ]
  },
  {
   "cell_type": "code",
   "execution_count": null,
   "metadata": {},
   "outputs": [],
   "source": []
  },
  {
   "cell_type": "code",
   "execution_count": null,
   "metadata": {},
   "outputs": [],
   "source": []
  },
  {
   "cell_type": "code",
   "execution_count": null,
   "metadata": {},
   "outputs": [],
   "source": []
  },
  {
   "cell_type": "code",
   "execution_count": null,
   "metadata": {},
   "outputs": [],
   "source": []
  },
  {
   "cell_type": "code",
   "execution_count": null,
   "metadata": {},
   "outputs": [],
   "source": []
  },
  {
   "cell_type": "code",
   "execution_count": null,
   "metadata": {},
   "outputs": [],
   "source": []
  }
 ],
 "metadata": {
  "kernelspec": {
   "display_name": "Python 3",
   "language": "python",
   "name": "python3"
  },
  "language_info": {
   "codemirror_mode": {
    "name": "ipython",
    "version": 3
   },
   "file_extension": ".py",
   "mimetype": "text/x-python",
   "name": "python",
   "nbconvert_exporter": "python",
   "pygments_lexer": "ipython3",
   "version": "3.7.3"
  }
 },
 "nbformat": 4,
 "nbformat_minor": 2
}
